{
 "cells": [
  {
   "cell_type": "markdown",
   "metadata": {},
   "source": [
    "# Trabalho Final GCC-108 - Teoria da Computação #\n",
    "Prof.: Douglas H. S. Abreu\n",
    "\n",
    "Nomes:\n",
    "João Victor Veronezi - 201811082<br/>Vinicius Abreu Gonçalves - 201820362\n",
    "\n",
    "Turma: 10A, 14A\n",
    "\n",
    "Link do repositório [GitHub](https://github.com/douglashsabreu/Trabalho_Final_GCC108)\n",
    "\n",
    "_______________________________________________________________________________________________________________________________"
   ]
  },
  {
   "cell_type": "markdown",
   "metadata": {},
   "source": [
    "●\tO trabalho deve ser feito em grupos de no máximo 2 componentes\n",
    "\n",
    "●\tTrabalhos entregues após a data limite não serão aceitos\n",
    "\n",
    "●\tData limite de entrega: 29 de Abril de 2022 : 23h59m\n",
    "\n",
    "●\tEnviar o trabalho para o campus virtual, do seguinte modo: Notebook exportado em PDF contendo o código e também o link do repositório GitHub para acesso aos arquivos. A Documentação deve estar no readme\n",
    "\n",
    "●\tO trabalho deve ser desenvolvido no modelo Notebook utilizando a linguagem Python\n",
    "_______________________________________________________________________________________________________________________________ "
   ]
  },
  {
   "attachments": {},
   "cell_type": "markdown",
   "metadata": {},
   "source": [
    "# Introdução\n",
    "Este trabalho propõe a utilização de operações da aritmética computacional por meio de uma Máquina de Turing. A máquina que foi desenvolvida recebe como entrada dois números em binário e gera como saída o resultado da adição desses números.\n",
    "\n",
    "#### Números binários e adição em números binários \n",
    "\n",
    "Os números binários são utilizados para representar dados em um meio digital, como por exemplo, a representação no meio analógico com presença ou ausência de carga elétrica e no meio digital por meio de zeros e uns. Essa representação com dois símbolos utiliza-se da mesma técnica do telégrafo, que transmitia mensagens por código Morse, sendo os símbolos curto e longo análogos ao zero e um (1).\n",
    "\n",
    "Utilizando-se a notação binária é possível representar uma faixa de valores diferentes de acordo com a quantidade de bits. Por exemplo, com dois bits pode-se representar quatro valores distintos, sendo eles 00, 01, 10 e 11. Ou seja, com n bits, podemos representar 2n valores distintos. \n",
    "\n",
    "Para a notação de números inteiros usando a base binária de zeros e uns, podemos representar os números utilizando as seguintes representações: de binário puro, de binários em sinal magnitude e a representação em complemento de 2 (1).\n",
    "\n",
    "Tomando como base a representação de números inteiros na base binária pura, que também é a representação utilizada neste trabalho, pode-se observar na Tabela 1, que com quatro bits temos as seguintes possibilidades para números inteiros.\n",
    "\n",
    "<img src=\"img/Tabela1.png\"/>\n",
    "\n",
    "As operações matemáticas de adição e subtração feitas na base binária seguem as mesmas regras da base decimal, contando com a diferença que temos apenas dois dígitos. Para a adição de dois números, temos quatro possibilidades de valores, sendo elas: 0 + 0, 0 + 1, 1 + 0, e 1 + 1. As três primeiras têm os mesmos resultados de uma operação em decimal, já para a operação de 1 + 1 temos como resultado zero, gerando um “vai um” para a coluna da esquerda (1).\n",
    "\n",
    "#### Máquina de Turing\n",
    "\n",
    "Turing descreve um computador digital como sendo formado por: uma unidade de armazenamento, uma unidade de execução e uma unidade de controle. A unidade de armazenamento é formada por uma fita, dividida em células, com um cabeçote apontando para a célula atual, a qual pode ser lida/escrita de acordo com a unidade de execução. Por sua vez, a unidade de execução tem como objetivo fazer a leitura do caractere representado na célula atual, analisar o que deve ser feito e alterar quando necessário. Já a unidade de controle faz as movimentações do cabeçote de acordo com o que a unidade de execução deseja, movendo o cabeçote para esquerda ou direita (2).\n",
    "\n",
    "_______________________________________________________________________________________________________________________________"
   ]
  },
  {
   "cell_type": "markdown",
   "metadata": {},
   "source": [
    "### Exercício 1)\n",
    "Descreva com suas palavras uma estratégia para o desenvolvimento de uma maquina de Turing que compute a soma de 2 numeros binário."
   ]
  },
  {
   "cell_type": "markdown",
   "metadata": {},
   "source": [
    "### Resposta 1\n",
    "\n"
   ]
  },
  {
   "cell_type": "markdown",
   "metadata": {},
   "source": [
    "### Exercício 2) \n",
    "Faça o esboço por meio de desenho da máquina de Turing proposta"
   ]
  },
  {
   "cell_type": "markdown",
   "metadata": {},
   "source": [
    "### Resposta 2\n",
    "Utilizada máquina criada para a disciplina de Linguagens Formais Autômatas\n",
    "\n",
    "<img src=\"img/resposta-2.png\"/>"
   ]
  },
  {
   "cell_type": "markdown",
   "metadata": {},
   "source": [
    "### Exercício 3)\n",
    "Defina a MT como uma quíntupla M=(Q,Σ,Γ,δ,q_0):\n",
    "\t\n",
    "    Q = conjunto de estados (padrão q[0-9]+)\n",
    "\t\n",
    "    Σ = alfabeto de entrada\n",
    "\t\n",
    "    Γ = alfabeto da fita\n",
    "\t\n",
    "    δ = função de transição no formato (q_i,x)→(q_j,y,D); assim, estando no estado q_i, lendo x, vai para o estado q_j, escreve y e movimenta na direção de D. D será L para esquerda ou R para direita.\n",
    "    \n",
    "    q_0 = estado inicial"
   ]
  },
  {
   "cell_type": "markdown",
   "metadata": {},
   "source": [
    "### Resposta 3\n",
    "- □ = B\n",
    "\n",
    "<img src=\"img/resposta-3_1.jpeg\"/>\n",
    "<img src=\"img/resposta-3_2.jpeg\"/>"
   ]
  },
  {
   "cell_type": "markdown",
   "metadata": {},
   "source": [
    "### Exercício 4)\n",
    "Faça a conversão de M em R(M)"
   ]
  },
  {
   "cell_type": "markdown",
   "metadata": {},
   "source": [
    "### Resposta 4\n",
    "- □ = B\n",
    "\n",
    "(q0, □) = (q1, □, R) -> 101110110111011<br/>\n",
    "(q1, 0) = (q1, 0, R) -> 110101101011<br/>\n",
    "(q1, 1) = (q1, 1, R) -> 11011011011011<br/>\n",
    "(q1, □) = (q2, □, R) -> 11011101110111011<br/>\n",
    "(q2, 0) = (q2, 0, R) -> 11101011101011<br/>\n",
    "(q2, 1) = (q2, 1, R) -> 1110110111011011<br/>\n",
    "(q2, □) = (q3, □, L) -> 111011101111011101<br/>\n",
    "(q3, 0) = (q3, 1, L) -> 1111010111101101<br/>\n",
    "(q3, 1) = (q7, 0, L) -> 11110110111111110101<br/>\n",
    "(q3, □) = (q4, □, R) -> 111101110111110111011<br/>\n",
    "(q7, 1) = (q7, 1 ,L) -> 1111111101101111111101101<br/>\n",
    "(q7, 0) = (q7, 0, L) -> 11111111010111111110101<br/>\n",
    "(q7, □) = (q8, □, L) -> 1111111101110111111111011101<br/>\n",
    "(q8, 1) = (q8, 0, L) -> 11111111101101111111110101<br/>\n",
    "(q8, 0) = (q1, 1, R) -> 11111111101011011011<br/>\n",
    "(q8, □) = (q1, 1, R) -> 1111111110111011011011<br/>\n",
    "(q4, 1) = (q4, □, R) -> 111110110111110111011<br/>\n",
    "(q4, □) = (q5, □, L) -> 1111101110111111011101<br/>\n",
    "(q5, □) = (q5, □, L) -> 11111101110111111011101<br/>\n",
    "(q5, 0) = (q6, 0, L) -> 11111101011111110101<br/>\n",
    "(q5, 1) = (q6, 1, L) -> 1111110110111111101101<br/>\n",
    "(q6, 1) = (q6, 1, L) -> 11111110110111111101101<br/>\n",
    "(q6, 0) = (q6, 0, L) -> 111111101011111110101"
   ]
  },
  {
   "cell_type": "markdown",
   "metadata": {},
   "source": [
    "### Exercício 5) \n",
    "Desenvolva uma função MTU que receba R(M) acrescido de uma entrada w, onde w é um arquivo csv que contem dois números binário. A saída da função MTU deve ser a computação de M para uma entrada w."
   ]
  },
  {
   "attachments": {},
   "cell_type": "markdown",
   "metadata": {},
   "source": [
    "### Exercício 6) \n",
    "\n",
    "_A)_ Explique a Tese de Chuch-Turing de forma sucinta\n",
    "\n",
    "_B)_ Dada uma máquina de Turing arbitrária M e uma string de entrada w, a computação de M com entrada w irá parar em menos de 100 transições? Descreva uma máquina de Turing que resolva esse problema de decisão.\n",
    "\n",
    "_C)_ Motre a solução para cada um dos seguintes sitemas de correspondência de Post:\n",
    "\n",
    "a) (a, aa), (bb, b), (a, bb)\n",
    "\n",
    "b) (a, ab), (ba, aba), (b, aba), (bba, b)\n",
    "\n",
    "c) (abb, ab), (aba, ba), (aab,a bab)\n",
    "\n",
    "d) (ab,aba), (baa, aa), (aba, baa)\n",
    "\n",
    "e) (a, aaa), (aab, b), (abaaa, ab)\n",
    "\n",
    "f) (ab, bb), (aa, ba), (ab, abb), (bb, bab)\n",
    "\n",
    "_______________________________________________________________________________________________________________________________\n",
    "\n",
    "_D)_ \n",
    "\n",
    "a) Prove que a função é primitiva recursiva\n",
    " \n",
    "<img src=\"img/minimizacao.png\"/>\n",
    "\n",
    "sempre que _p_ e _u_ são recursivas primitivas \n",
    "\n",
    "b) defina o valor \"passo a passo\" de _gn(4,1,0,2,1) =_\n",
    "\n",
    "## Resposta \n",
    "\n",
    "$2^{4} $× $3^{1} $×  $5^{0} $×  $7^{2} $× $11^{1} $ = $25872$\n",
    "_______________________________________________________________________________________________________________________________"
   ]
  },
  {
   "attachments": {},
   "cell_type": "markdown",
   "metadata": {},
   "source": [
    " _E)_ \n",
    "\n",
    "a) Dado _f(x) = 3x² + 4x + 6_ e _g(x) = 5x²_ \n",
    "\n",
    "Prove que _g(x) ∈ O(f)_ e _f(x) ∈ O(g)_\n",
    "\n",
    "<h1>Prova:</h1>\n",
    "<br>\n",
    "\n",
    " - Para complexidade:<br>\n",
    "    - $f(x) = 3x^{2}$<br>\n",
    " - Temos que:<br>\n",
    "    - $O(f) = O(N^{2})$\n",
    " - Com isso, temos: <br>\n",
    "    -  $f(x) ∈ O(N^{2})$\n",
    "<br>\n",
    "<br>\n",
    " - Para complexidade:<br>\n",
    "    - $g(x) = 5x^{2}$<br>\n",
    " - Temos que:<br>\n",
    "    - $O(g) = O(N^{2})$\n",
    " - Com isso, temos: <br>\n",
    "    - $g(x) ∈ O(N^{2})$\n",
    "<br>\n",
    "<br>\n",
    "\n",
    "Então temos que: <strong>g(x) ∈ O(f) e f(x) ∈ O(g)</strong>\n",
    "\n",
    "<br>\n",
    "\n",
    "\n",
    "\n",
    "\n",
    "\n",
    "\n",
    "b) Qual é a complexidade e o \"_big O\"_ de M'?\n",
    "\n",
    "<img src=\"img/MT.png\"/>\n",
    "_______________________________________________________________________________________________________________________________\n",
    "\n",
    "# Referências\n",
    "\n",
    "(1) _Ronald. J. Tocci, Neal. S. Widmer e Gregory L. Moss. 2011. Sistemas Digitais: Princípios e Aplicações. (11ª ed.). Pearson._\n",
    "\n",
    "(2) _Alan Turing. 1937. Computability and λ-definability. Journal of Symbolic Logic, 2, 4: 153–163._\n",
    "\n",
    "(3) _Sudkamp, T. A. 2006. Languages and machines: an introduction to the theory of computer science. 3rd Edition_\n",
    "_______________________________________________________________________________________________________________________________"
   ]
  },
  {
   "cell_type": "code",
   "execution_count": 2,
   "metadata": {},
   "outputs": [
    {
     "data": {
      "text/plain": [
       "'sala'"
      ]
     },
     "execution_count": 2,
     "metadata": {},
     "output_type": "execute_result"
    }
   ],
   "source": [
    "# bla bla bla\n",
    "x= \"sala\"\n",
    "x"
   ]
  },
  {
   "cell_type": "code",
   "execution_count": 2,
   "metadata": {},
   "outputs": [],
   "source": [
    "# função MTU = {R(M)| R(M) aceite w}\n",
    "\n",
    "def MTU ()"
   ]
  },
  {
   "cell_type": "code",
   "execution_count": 3,
   "metadata": {},
   "outputs": [],
   "source": [
    "# bla bla bla"
   ]
  },
  {
   "cell_type": "markdown",
   "metadata": {},
   "source": [
    "_______________________________________________________________________________________________________________________________\n",
    "# Links úteis:\n",
    "\n",
    "Link do site [Jupyter](https://jupyter.org/)\n",
    "\n",
    "Link do site [Anaconda](https://www.anaconda.com/)\n",
    "\n",
    "Link para ajuda com [Markdown no Notebook](https://acervolima.com/celula-markdown-no-caderno-jupyter/)\n"
   ]
  },
  {
   "cell_type": "code",
   "execution_count": 11,
   "metadata": {},
   "outputs": [
    {
     "data": {
      "text/html": [
       "<div>\n",
       "<style scoped>\n",
       "    .dataframe tbody tr th:only-of-type {\n",
       "        vertical-align: middle;\n",
       "    }\n",
       "\n",
       "    .dataframe tbody tr th {\n",
       "        vertical-align: top;\n",
       "    }\n",
       "\n",
       "    .dataframe thead th {\n",
       "        text-align: right;\n",
       "    }\n",
       "</style>\n",
       "<table border=\"1\" class=\"dataframe\">\n",
       "  <thead>\n",
       "    <tr style=\"text-align: right;\">\n",
       "      <th></th>\n",
       "      <th>1011000;1101</th>\n",
       "    </tr>\n",
       "  </thead>\n",
       "  <tbody>\n",
       "  </tbody>\n",
       "</table>\n",
       "</div>"
      ],
      "text/plain": [
       "Empty DataFrame\n",
       "Columns: [1011000;1101]\n",
       "Index: []"
      ]
     },
     "execution_count": 11,
     "metadata": {},
     "output_type": "execute_result"
    }
   ],
   "source": [
    "import pandas as pd\n",
    "exemplo = pd.read_csv('exemplo2.CSV')\n",
    "exemplo"
   ]
  },
  {
   "cell_type": "code",
   "execution_count": 12,
   "metadata": {},
   "outputs": [
    {
     "name": "stdout",
     "output_type": "stream",
     "text": [
      "['', '111010100111011001111001111111010101101', '1111111011111']\n",
      "['', '01110101', '111011', '1111', '1111111010101101', '01111111011111']\n",
      "6\n"
     ]
    }
   ],
   "source": [
    "txt = \"0001110101001110110011110011111110101011010001111111011111\"\n",
    "\n",
    "x = txt.split(\"000\")\n",
    "print(x)\n",
    "y = txt.split(\"00\")\n",
    "print(y)\n",
    "print(len(y[2]))"
   ]
  },
  {
   "cell_type": "code",
   "execution_count": null,
   "metadata": {},
   "outputs": [],
   "source": []
  }
 ],
 "metadata": {
  "kernelspec": {
   "display_name": "Python 3 (ipykernel)",
   "language": "python",
   "name": "python3"
  },
  "language_info": {
   "codemirror_mode": {
    "name": "ipython",
    "version": 3
   },
   "file_extension": ".py",
   "mimetype": "text/x-python",
   "name": "python",
   "nbconvert_exporter": "python",
   "pygments_lexer": "ipython3",
   "version": "3.10.4"
  }
 },
 "nbformat": 4,
 "nbformat_minor": 4
}
